{
  "nbformat": 4,
  "nbformat_minor": 0,
  "metadata": {
    "colab": {
      "name": " ASSIGNMENT -1 AIML_BOOTCAMP (2216144 PHANINDER).ipynb",
      "provenance": [],
      "include_colab_link": true
    },
    "kernelspec": {
      "name": "python3",
      "display_name": "Python 3"
    },
    "language_info": {
      "name": "python"
    }
  },
  "cells": [
    {
      "cell_type": "markdown",
      "metadata": {
        "id": "view-in-github",
        "colab_type": "text"
      },
      "source": [
        "<a href=\"https://colab.research.google.com/github/Phaninderreddy01/2216144_AIML_Bootcamp/blob/main/ASSIGNMENT_1_AIML_BOOTCAMP_(2216144_PHANINDER).ipynb\" target=\"_parent\"><img src=\"https://colab.research.google.com/assets/colab-badge.svg\" alt=\"Open In Colab\"/></a>"
      ]
    },
    {
      "cell_type": "code",
      "execution_count": null,
      "metadata": {
        "id": "Iq-EdJ-no93-"
      },
      "outputs": [],
      "source": [
        ""
      ]
    },
    {
      "cell_type": "markdown",
      "source": [
        "1.Implement the methods of String with examples"
      ],
      "metadata": {
        "id": "ouf7f8qspUK-"
      }
    },
    {
      "cell_type": "code",
      "source": [
        "\n",
        "marks= [\"45,46,78\"]\n",
        "print(marks)\n",
        "\n",
        "name = \"phaninder\"\n",
        "age = 20\n",
        "\n",
        "print(name)\n",
        "print(age)\n",
        "\n",
        "name =\"phaninder\"\n",
        "age=20\n",
        "\n",
        "name=\"cherry\"\n",
        "age=16\n",
        "\n",
        "print(name)\n",
        "print(age)\n",
        "\n",
        "\n",
        "\n"
      ],
      "metadata": {
        "colab": {
          "base_uri": "https://localhost:8080/"
        },
        "id": "U_snhZJfpWrx",
        "outputId": "de03764d-0685-429e-ff51-ae85b2febb8a"
      },
      "execution_count": 3,
      "outputs": [
        {
          "output_type": "stream",
          "name": "stdout",
          "text": [
            "['45,46,78']\n",
            "phaninder\n",
            "20\n",
            "cherry\n",
            "16\n"
          ]
        }
      ]
    },
    {
      "cell_type": "code",
      "source": [
        " \n",
        "str = 'PHANINDER'\n",
        "print('str = ', str)\n",
        "\n",
        "\n",
        "print('str[0] = ', str[0])\n",
        "\n",
        "\n",
        "print('str[-1] = ', str[-1])\n",
        "\n",
        "\n",
        "print('str[1:5] = ', str[1:5])\n",
        "\n",
        "print('str[5:-2] = ', str[5:-2])"
      ],
      "metadata": {
        "colab": {
          "base_uri": "https://localhost:8080/"
        },
        "id": "JHW8NoynqcJo",
        "outputId": "6ad1e584-bc0b-44d1-d1f5-36d1f8b87b26"
      },
      "execution_count": null,
      "outputs": [
        {
          "output_type": "stream",
          "name": "stdout",
          "text": [
            "str =  PHANINDER\n",
            "str[0] =  P\n",
            "str[-1] =  R\n",
            "str[1:5] =  HANI\n",
            "str[5:-2] =  ND\n"
          ]
        }
      ]
    },
    {
      "cell_type": "code",
      "source": [
        "\n",
        "str1 = 'Hello'\n",
        "str2 ='World!'\n",
        "\n",
        "\n",
        "print('str1 + str2 = ', str1 + str2)\n",
        "print('str1 * 3 =', str1 * 3)"
      ],
      "metadata": {
        "colab": {
          "base_uri": "https://localhost:8080/"
        },
        "id": "CshJHazzrMTT",
        "outputId": "ca49ddce-ccfd-46ad-d8cb-41b0f24021df"
      },
      "execution_count": null,
      "outputs": [
        {
          "output_type": "stream",
          "name": "stdout",
          "text": [
            "str1 + str2 =  HelloWorld!\n",
            "str1 * 3 = HelloHelloHello\n"
          ]
        }
      ]
    },
    {
      "cell_type": "code",
      "source": [
        "name =\" Tony Stark \"\n",
        "print(name.upper())\n",
        "print(name.lower())\n",
        "print(name.swapcase())\n",
        "print(name.title())\n",
        "print(name.capitalize())\n",
        "print(name.find('S'))\n",
        "print(name.find('A'))\n",
        "print(name.find(\"Stark\"))\n",
        "print(name.replace(\"Tony Stark\",\"Ironman\"))\n",
        "print(name.replace(\"Stark\",\"ironman\"))\n",
        "print('T' in name)\n",
        "print('m' in name)\n",
        "string=\"  it was raining yesturday \"\n",
        "print(string.strip())\n",
        "print(string.lstrip())\n",
        "print(string.rstrip())"
      ],
      "metadata": {
        "colab": {
          "base_uri": "https://localhost:8080/"
        },
        "id": "de_4en1fr_jQ",
        "outputId": "0e864d71-65f3-40f8-d480-4cd5e9adcc01"
      },
      "execution_count": 5,
      "outputs": [
        {
          "output_type": "stream",
          "name": "stdout",
          "text": [
            " TONY STARK \n",
            " tony stark \n",
            " tONY sTARK \n",
            " Tony Stark \n",
            " tony stark \n",
            "6\n",
            "-1\n",
            "6\n",
            " Ironman \n",
            " Tony ironman \n",
            "True\n",
            "False\n",
            "it was raining yesturday\n",
            "it was raining yesturday \n",
            "  it was raining yesturday\n"
          ]
        }
      ]
    },
    {
      "cell_type": "code",
      "source": [
        ""
      ],
      "metadata": {
        "id": "RJ9t8K27v4Vr"
      },
      "execution_count": null,
      "outputs": []
    },
    {
      "cell_type": "markdown",
      "source": [
        "2.Implement the methods of List with examples."
      ],
      "metadata": {
        "id": "miLP5wrss3xB"
      }
    },
    {
      "cell_type": "code",
      "source": [
        "marks= [95,98,99,97]\n",
        "        \n",
        "print(marks)\n",
        "\n",
        "print(marks[0])  \n",
        "\n",
        "\n",
        "print(marks[2])  \n",
        "\n",
        "\n",
        "print(marks[3])  \n",
        "\n",
        "\n",
        "print(marks[-1])\n",
        "\n",
        "\n",
        "print(marks[-2])\n",
        "\n",
        "\n",
        "print(marks[-4])\n"
      ],
      "metadata": {
        "colab": {
          "base_uri": "https://localhost:8080/"
        },
        "id": "8aPT09WWs8t0",
        "outputId": "abb7eece-1394-4418-a45b-417e6f1cd0ec"
      },
      "execution_count": 9,
      "outputs": [
        {
          "output_type": "stream",
          "name": "stdout",
          "text": [
            "[95, 98, 99, 97]\n",
            "95\n",
            "99\n",
            "97\n",
            "97\n",
            "99\n",
            "95\n"
          ]
        }
      ]
    },
    {
      "cell_type": "code",
      "source": [
        "\n",
        "\n",
        "marks = [95,98,97,99]\n",
        "\n",
        "#elements from index 0 to index 2\n",
        "print(marks[0:2])\n",
        "\n",
        "# elements from index 1 to index 3\n",
        "print(marks[1:3])\n",
        "\n",
        "# elements from index 2, to end\n",
        "print(marks[2:])\n",
        "\n",
        "# elements beginning to end\n",
        "print(marks[:])\n",
        "\n",
        "for score in marks:\n",
        "  print(score)"
      ],
      "metadata": {
        "colab": {
          "base_uri": "https://localhost:8080/"
        },
        "id": "EmlC4TrhuOs4",
        "outputId": "1acb93b0-1df2-410b-eab4-8817de1ce817"
      },
      "execution_count": 11,
      "outputs": [
        {
          "output_type": "stream",
          "name": "stdout",
          "text": [
            "[95, 98]\n",
            "[98, 97]\n",
            "[97, 99]\n",
            "[95, 98, 97, 99]\n",
            "95\n",
            "98\n",
            "97\n",
            "99\n"
          ]
        }
      ]
    },
    {
      "cell_type": "code",
      "source": [
        "\n",
        "marks = [95,96,97]\n",
        "\n",
        "marks.append(99)\n",
        "\n",
        "print(marks)\n",
        "\n",
        "marks.insert(0,99)\n",
        "\n",
        "print(marks)\n",
        "print(99 in marks)\n",
        "print(len(marks))\n",
        "\n",
        "marks.extend([96,91])\n",
        "print(marks)\n",
        "marks.clear()\n",
        "print(marks)\n",
        "\n"
      ],
      "metadata": {
        "colab": {
          "base_uri": "https://localhost:8080/"
        },
        "id": "_M1_ORXFuyx3",
        "outputId": "5b01aa7a-3325-42dc-9634-2987945ee6a6"
      },
      "execution_count": 17,
      "outputs": [
        {
          "output_type": "stream",
          "name": "stdout",
          "text": [
            "[95, 96, 97, 99]\n",
            "[99, 95, 96, 97, 99]\n",
            "True\n",
            "5\n",
            "[99, 95, 96, 97, 99, 96, 91]\n",
            "[]\n"
          ]
        }
      ]
    },
    {
      "cell_type": "code",
      "source": [
        "\n",
        "odd = [1, 3, 5]\n",
        "\n",
        "print(odd + [9, 7, 5])\n",
        "\n",
        "print([\"sru\"] * 3)"
      ],
      "metadata": {
        "colab": {
          "base_uri": "https://localhost:8080/"
        },
        "id": "aBYdqtz7u8YR",
        "outputId": "0663c38e-2068-4cde-a2ee-4aafdcb469b7"
      },
      "execution_count": null,
      "outputs": [
        {
          "output_type": "stream",
          "name": "stdout",
          "text": [
            "[1, 3, 5, 9, 7, 5]\n",
            "['sru', 'sru', 'sru']\n"
          ]
        }
      ]
    },
    {
      "cell_type": "code",
      "source": [
        "\n",
        "odd = [1, 9]\n",
        "odd.insert(1,3)\n",
        "\n",
        "print(odd)\n",
        "\n"
      ],
      "metadata": {
        "colab": {
          "base_uri": "https://localhost:8080/"
        },
        "id": "LXnjgF7bvGiq",
        "outputId": "c06e3d5a-d903-490f-c9c4-605c4d4b81ca"
      },
      "execution_count": null,
      "outputs": [
        {
          "output_type": "stream",
          "name": "stdout",
          "text": [
            "[1, 3, 9]\n"
          ]
        }
      ]
    },
    {
      "cell_type": "code",
      "source": [
        "\n",
        "marks =[99,98,97,95,96.91\n",
        "        ]\n",
        "# delete one item\n",
        "del marks[2]\n",
        "print(marks)\n",
        "\n",
        "# delete multiple items\n",
        "del marks[1:5]\n",
        "print(marks)\n",
        "\n",
        "# delete the entire list\n",
        "del marks\n",
        "\n"
      ],
      "metadata": {
        "colab": {
          "base_uri": "https://localhost:8080/"
        },
        "id": "92DwScArvYga",
        "outputId": "279e6e57-85f3-4b1a-a130-c8fe2216d989"
      },
      "execution_count": 20,
      "outputs": [
        {
          "output_type": "stream",
          "name": "stdout",
          "text": [
            "[99, 98, 95, 96.91]\n",
            "[99]\n"
          ]
        }
      ]
    },
    {
      "cell_type": "code",
      "source": [
        "name= ['p','h','a','n','i']\n",
        "name.remove('p')\n",
        "print(name)\n",
        "\n",
        "print(name.pop(1))\n",
        "print(name)\n",
        "\n",
        "\n",
        "print(name.pop())\n",
        "print(name)\n",
        "\n",
        "name.clear()\n",
        "print(name)"
      ],
      "metadata": {
        "colab": {
          "base_uri": "https://localhost:8080/"
        },
        "id": "Xuq96HwWv8Tg",
        "outputId": "9fc28773-31d6-45d9-e840-4fd256add677"
      },
      "execution_count": 21,
      "outputs": [
        {
          "output_type": "stream",
          "name": "stdout",
          "text": [
            "['h', 'a', 'n', 'i']\n",
            "a\n",
            "['h', 'n', 'i']\n",
            "i\n",
            "['h', 'n']\n",
            "[]\n"
          ]
        }
      ]
    },
    {
      "cell_type": "code",
      "source": [
        ""
      ],
      "metadata": {
        "id": "QwS6ONA6xQEd"
      },
      "execution_count": null,
      "outputs": []
    },
    {
      "cell_type": "markdown",
      "source": [
        "3.Implement the methods of Tuple with examples."
      ],
      "metadata": {
        "id": "wHqKnk8ExQvK"
      }
    },
    {
      "cell_type": "code",
      "source": [
        "\n",
        "\n",
        "\n",
        "marks = ()\n",
        "print(marks)\n",
        "\n",
        "\n",
        "marks = (95,98,97)\n",
        "print(marks)\n",
        "\n",
        "tup = (\"pizza\", [8, 4, 6], (1, 2, 3))\n",
        "print(tup)\n",
        "\n"
      ],
      "metadata": {
        "colab": {
          "base_uri": "https://localhost:8080/"
        },
        "id": "fiXLSxP8xSvQ",
        "outputId": "cb88c43d-076b-447f-edfb-01710b9a0496"
      },
      "execution_count": 22,
      "outputs": [
        {
          "output_type": "stream",
          "name": "stdout",
          "text": [
            "()\n",
            "(95, 98, 97)\n",
            "('pizza', [8, 4, 6], (1, 2, 3))\n"
          ]
        }
      ]
    },
    {
      "cell_type": "code",
      "source": [
        "\n",
        "marks = (97,95,96,99)\n",
        "\n",
        "print(marks[0])\n",
        "print(marks[-1])\n",
        "print(marks[-3])\n"
      ],
      "metadata": {
        "colab": {
          "base_uri": "https://localhost:8080/"
        },
        "id": "T6DcEXXWzFdF",
        "outputId": "83572781-16d5-40e1-f3a7-05a1b0605b4b"
      },
      "execution_count": 26,
      "outputs": [
        {
          "output_type": "stream",
          "name": "stdout",
          "text": [
            "97\n",
            "99\n",
            "95\n"
          ]
        }
      ]
    },
    {
      "cell_type": "code",
      "source": [
        "marks = (95,96,97,97,97)\n",
        "\n",
        "\n",
        "print(marks.count(97))\n",
        "print(marks.count(95))  \n",
        "print(marks.index(97)) \n",
        "\n"
      ],
      "metadata": {
        "colab": {
          "base_uri": "https://localhost:8080/"
        },
        "id": "-JOIAgJTzenI",
        "outputId": "f38d9035-b156-4d33-db2e-ecd0482ab332"
      },
      "execution_count": 28,
      "outputs": [
        {
          "output_type": "stream",
          "name": "stdout",
          "text": [
            "3\n",
            "1\n",
            "2\n"
          ]
        }
      ]
    },
    {
      "cell_type": "code",
      "source": [
        "\n",
        "V_tuple=(95,96)\n",
        "\n",
        "del V_tuple\n",
        "\n",
        " "
      ],
      "metadata": {
        "id": "YWy9DyWGz9Pi"
      },
      "execution_count": 32,
      "outputs": []
    },
    {
      "cell_type": "code",
      "source": [
        ""
      ],
      "metadata": {
        "id": "7IJiuF1m1vn7"
      },
      "execution_count": null,
      "outputs": []
    },
    {
      "cell_type": "markdown",
      "source": [
        "4.Implement the methods of Dictionary with examples."
      ],
      "metadata": {
        "id": "W-juZX0Q2JNF"
      }
    },
    {
      "cell_type": "code",
      "source": [
        "\n",
        "marks = {\"english\":95, 'chemistry':98}\n",
        "\n",
        "\n",
        "print(marks[\"chemistry\"])\n",
        "\n",
        "\n",
        "print(marks.get('english'))\n",
        "\n",
        "\n",
        "\n",
        "\n"
      ],
      "metadata": {
        "colab": {
          "base_uri": "https://localhost:8080/"
        },
        "id": "eImNbh-b2K1K",
        "outputId": "6a699b79-3cde-4339-bf99-f68b7c262cd9"
      },
      "execution_count": 34,
      "outputs": [
        {
          "output_type": "stream",
          "name": "stdout",
          "text": [
            "98\n",
            "95\n"
          ]
        }
      ]
    },
    {
      "cell_type": "code",
      "source": [
        "# Changing and adding Dictionary Elements\n",
        "marks = {\"english\":95,\"chemistry\":98}\n",
        "\n",
        "marks[\"physics\"] = 97\n",
        "print(marks)\n",
        "\n",
        "marks[\"physics\"]=99\n",
        "print(marks)\n",
        "\n"
      ],
      "metadata": {
        "colab": {
          "base_uri": "https://localhost:8080/"
        },
        "id": "GR0YRkUk2gmz",
        "outputId": "bfd92d5f-0bac-47ca-91eb-43a0f551a200"
      },
      "execution_count": 35,
      "outputs": [
        {
          "output_type": "stream",
          "name": "stdout",
          "text": [
            "{'english': 95, 'chemistry': 98, 'physics': 97}\n",
            "{'english': 95, 'chemistry': 98, 'physics': 99}\n"
          ]
        }
      ]
    },
    {
      "cell_type": "code",
      "source": [
        "dict={\"name\":'phaninder',\" branch\":'CSE(AIML)',\"age\":20,\"college\":'sr'}\n",
        "print(dict[\"name\"])\n",
        "print(dict.keys())\n",
        "print(dict.values())\n",
        "dict[\"firstname\"]='durganti' #add item\n",
        "print(dict)\n",
        "dict[\"college\"]='SRU' #update value\n",
        "print(dict)\n",
        "dict.pop(\"age\") #remove particular item\n",
        "print(dict)\n",
        "dict.popitem() #remove an item from last\n",
        "print(dict)\n",
        "dict.clear() # clear enter dict\n",
        "print(dict)"
      ],
      "metadata": {
        "colab": {
          "base_uri": "https://localhost:8080/"
        },
        "id": "UffoMpUrT6rr",
        "outputId": "5affb7be-3e7e-420b-f3d8-dd6c82f95ff0"
      },
      "execution_count": 51,
      "outputs": [
        {
          "output_type": "stream",
          "name": "stdout",
          "text": [
            "phaninder\n",
            "dict_keys(['name', ' branch', 'age', 'college'])\n",
            "dict_values(['phaninder', 'CSE(AIML)', 20, 'sr'])\n",
            "{'name': 'phaninder', ' branch': 'CSE(AIML)', 'age': 20, 'college': 'sr', 'firstname': 'durganti'}\n",
            "{'name': 'phaninder', ' branch': 'CSE(AIML)', 'age': 20, 'college': 'SRU', 'firstname': 'durganti'}\n",
            "{'name': 'phaninder', ' branch': 'CSE(AIML)', 'college': 'SRU', 'firstname': 'durganti'}\n",
            "{'name': 'phaninder', ' branch': 'CSE(AIML)', 'college': 'SRU'}\n",
            "{}\n"
          ]
        }
      ]
    },
    {
      "cell_type": "markdown",
      "source": [
        "5.Implement the methods of Set with examples."
      ],
      "metadata": {
        "id": "X69XmXFHUTP7"
      }
    },
    {
      "cell_type": "code",
      "source": [
        "set1={95,98,97,97,97}\n",
        "set2={10,9,7,8,6,5,1,3,2,4}\n",
        "set1.add(11)\n",
        "print(set1)\n",
        "set1.update([12,13,14])\n",
        "print(set1)\n",
        "set1.discard(14)\n",
        "print(set1)\n",
        "set1.remove(95)\n",
        "print(set1)\n",
        "set1.copy()\n",
        "print(set1)\n",
        "set1.difference()\n",
        "print(set1)\n",
        "print(set1)\n",
        "#union\n",
        "print(set1.union(set2))\n",
        "#intersection\n",
        "print(set1.intersection(set2))\n",
        "#difference\n",
        "print(set1-set2)\n",
        "print(set2-set1)\n",
        "set1.pop()\n",
        "print(set1)"
      ],
      "metadata": {
        "colab": {
          "base_uri": "https://localhost:8080/"
        },
        "id": "gE5GcpmuUXdr",
        "outputId": "9992d856-4dd2-4660-d82d-88be11c98b20"
      },
      "execution_count": 54,
      "outputs": [
        {
          "output_type": "stream",
          "name": "stdout",
          "text": [
            "{97, 98, 11, 95}\n",
            "{97, 98, 11, 12, 13, 14, 95}\n",
            "{97, 98, 11, 12, 13, 95}\n",
            "{97, 98, 11, 12, 13}\n",
            "{97, 98, 11, 12, 13}\n",
            "{97, 98, 11, 12, 13}\n",
            "{97, 98, 11, 12, 13}\n",
            "{97, 98, 1, 2, 3, 4, 5, 6, 7, 8, 11, 12, 13, 9, 10}\n",
            "set()\n",
            "{97, 98, 11, 12, 13}\n",
            "{1, 2, 3, 4, 5, 6, 7, 8, 9, 10}\n",
            "{98, 11, 12, 13}\n"
          ]
        }
      ]
    },
    {
      "cell_type": "markdown",
      "source": [
        "6.Write a python program to convert Decimal to Binary, Octal and Hexadecimal with direct method"
      ],
      "metadata": {
        "id": "eQRcxyvoUysL"
      }
    },
    {
      "cell_type": "code",
      "source": [
        "print(bin(40))\n",
        "print(oct(40))\n",
        "print(hex(40))"
      ],
      "metadata": {
        "colab": {
          "base_uri": "https://localhost:8080/"
        },
        "id": "Ep2cCPKjVDsv",
        "outputId": "20af4fcf-f45f-4b69-cdde-8d7e6738f0e4"
      },
      "execution_count": 56,
      "outputs": [
        {
          "output_type": "stream",
          "name": "stdout",
          "text": [
            "0b101000\n",
            "0o50\n",
            "0x28\n"
          ]
        }
      ]
    },
    {
      "cell_type": "markdown",
      "source": [
        ""
      ],
      "metadata": {
        "id": "ZYuqRBSeVK4n"
      }
    },
    {
      "cell_type": "markdown",
      "source": [
        "7.Implement Arithmetic operators with examples."
      ],
      "metadata": {
        "id": "Kp1dShVTVMQC"
      }
    },
    {
      "cell_type": "code",
      "source": [
        "A=5\n",
        "B=2\n",
        "print(A+B)\n",
        "print(A-B)\n",
        "print(A*B)\n",
        "print(A/B)\n",
        "print(A%B)\n",
        "print(A**B)\n",
        "print(A//B)"
      ],
      "metadata": {
        "colab": {
          "base_uri": "https://localhost:8080/"
        },
        "id": "S9QoD8rZVPls",
        "outputId": "f74686d4-5fa2-4909-9e75-76a4d08dfbdd"
      },
      "execution_count": 55,
      "outputs": [
        {
          "output_type": "stream",
          "name": "stdout",
          "text": [
            "7\n",
            "3\n",
            "10\n",
            "2.5\n",
            "1\n",
            "25\n",
            "2\n"
          ]
        }
      ]
    },
    {
      "cell_type": "markdown",
      "source": [
        "8.Implement Assignment operators with examples."
      ],
      "metadata": {
        "id": "KwDGqoT4VX8F"
      }
    },
    {
      "cell_type": "code",
      "source": [
        "\n"
      ],
      "metadata": {
        "id": "_nWSUzoWVcPu"
      },
      "execution_count": 60,
      "outputs": []
    },
    {
      "cell_type": "code",
      "source": [
        "a=100\n",
        "b=50\n",
        "c=a+b\n",
        "print(c)\n",
        "c+=a\n",
        "print(c)\n",
        "c-=a\n",
        "print(c)\n",
        "c*=a\n",
        "print(c)\n",
        "c/=a\n",
        "print(c)\n",
        "c=2\n",
        "c%=a\n",
        "print(c)\n",
        "c**=a\n",
        "print(c)\n",
        "c//=a\n",
        "print(c)"
      ],
      "metadata": {
        "colab": {
          "base_uri": "https://localhost:8080/"
        },
        "outputId": "f27681d1-fbe8-4635-f16f-ee241c17784b",
        "id": "qMsraMQ6FryN"
      },
      "execution_count": 61,
      "outputs": [
        {
          "output_type": "stream",
          "name": "stdout",
          "text": [
            "150\n",
            "250\n",
            "150\n",
            "15000\n",
            "150.0\n",
            "2\n",
            "1267650600228229401496703205376\n",
            "12676506002282294014967032053\n"
          ]
        }
      ]
    },
    {
      "cell_type": "markdown",
      "source": [
        "9.Implement Comparison operators with examples."
      ],
      "metadata": {
        "id": "XdPElBUeViTA"
      }
    },
    {
      "cell_type": "code",
      "source": [
        "\n",
        "print(3>2)\n",
        "print(3<2)\n",
        "print(3>=2)\n",
        "print(3<=2)\n",
        "print(3==2)\n",
        "print(3==3)\n",
        "print(3!=3)\n",
        "print(3!=2)"
      ],
      "metadata": {
        "colab": {
          "base_uri": "https://localhost:8080/"
        },
        "id": "p9rFqaobVlWi",
        "outputId": "ffebd64d-3163-42b3-c85f-8b4008af321c"
      },
      "execution_count": 66,
      "outputs": [
        {
          "output_type": "stream",
          "name": "stdout",
          "text": [
            "True\n",
            "False\n",
            "True\n",
            "False\n",
            "False\n",
            "True\n",
            "False\n",
            "True\n"
          ]
        }
      ]
    },
    {
      "cell_type": "code",
      "source": [
        ""
      ],
      "metadata": {
        "id": "PnhW6yDuVuVl"
      },
      "execution_count": null,
      "outputs": []
    },
    {
      "cell_type": "markdown",
      "source": [
        "10.Implement Logical operators with examples"
      ],
      "metadata": {
        "id": "cXUXjh6WVuq3"
      }
    },
    {
      "cell_type": "code",
      "source": [
        "a='true'\n",
        "b='flase'\n",
        "print(a and b)\n",
        "print(a or b)\n",
        "print(not a)\n",
        "print(not b)\n",
        "\n",
        "print(2>3 or 2>1)\n",
        "print(3>2 and 2>1)\n",
        "print(3>2 and 2>8)\n",
        "print(not 2>3)\n",
        "print(not 3>2)\n"
      ],
      "metadata": {
        "colab": {
          "base_uri": "https://localhost:8080/"
        },
        "id": "TsR1m2SmVxgL",
        "outputId": "21ab01b5-e526-42c1-e8d7-1988171b7a27"
      },
      "execution_count": 67,
      "outputs": [
        {
          "output_type": "stream",
          "name": "stdout",
          "text": [
            "flase\n",
            "true\n",
            "False\n",
            "False\n",
            "True\n",
            "True\n",
            "False\n",
            "True\n",
            "False\n"
          ]
        }
      ]
    },
    {
      "cell_type": "markdown",
      "source": [
        "11.Implement Bitwise operators with examples"
      ],
      "metadata": {
        "id": "ncxiWYGhV2iQ"
      }
    },
    {
      "cell_type": "code",
      "source": [
        "a=100\n",
        "b=120\n",
        "print(a&b)\n",
        "print(a^b)\n",
        "print(a|b)\n",
        "print(~a)\n",
        "print(a>>2)\n",
        "print(a<<2)"
      ],
      "metadata": {
        "colab": {
          "base_uri": "https://localhost:8080/"
        },
        "id": "gwKiS3UNV5Oe",
        "outputId": "88feca44-10a3-4e11-ae91-f2a8c76a147c"
      },
      "execution_count": 72,
      "outputs": [
        {
          "output_type": "stream",
          "name": "stdout",
          "text": [
            "96\n",
            "28\n",
            "124\n",
            "-101\n",
            "25\n",
            "400\n"
          ]
        }
      ]
    },
    {
      "cell_type": "markdown",
      "source": [
        "12.Implement Membership operators with examples."
      ],
      "metadata": {
        "id": "_Qlc_f2OWDIU"
      }
    },
    {
      "cell_type": "code",
      "source": [
        "marks=[95,98,99]\n",
        "subjects={\"maths\",\"physics\",\"chemistry\"}\n",
        "print(96 in marks)\n",
        "print(\"maths\" in subjects)\n",
        "print(97 in marks)\n",
        "print('english' not in subjects)"
      ],
      "metadata": {
        "colab": {
          "base_uri": "https://localhost:8080/"
        },
        "id": "29_YgkNxWEIe",
        "outputId": "afec560e-782d-43f7-99c2-bb78210f93e4"
      },
      "execution_count": 75,
      "outputs": [
        {
          "output_type": "stream",
          "name": "stdout",
          "text": [
            "False\n",
            "True\n",
            "False\n",
            "True\n"
          ]
        }
      ]
    },
    {
      "cell_type": "markdown",
      "source": [
        "13.Implement Identity operators with examples"
      ],
      "metadata": {
        "id": "2CpqT3G3WmW6"
      }
    },
    {
      "cell_type": "code",
      "source": [
        "a=[1,2,3]\n",
        "b=[4,5,6]\n",
        "x='car'\n",
        "y='bike'\n",
        "print(a is b)\n",
        "print(a is not b)\n",
        "print(x is y)\n",
        "print(x is not y)"
      ],
      "metadata": {
        "colab": {
          "base_uri": "https://localhost:8080/"
        },
        "id": "QXVvgVM6WqpE",
        "outputId": "075b7191-5ee1-415b-c7f6-9d63c88527e6"
      },
      "execution_count": 76,
      "outputs": [
        {
          "output_type": "stream",
          "name": "stdout",
          "text": [
            "False\n",
            "True\n",
            "False\n",
            "True\n"
          ]
        }
      ]
    },
    {
      "cell_type": "markdown",
      "source": [
        "14.demonstrate Negative indexing for List and apply slicing"
      ],
      "metadata": {
        "id": "p5HnuU20XFQi"
      }
    },
    {
      "cell_type": "code",
      "source": [
        "list=[1,6.0,2,3.5,10,20,56,5,1.4]\n",
        "print(list[-1])\n",
        "print(list[-4])\n",
        "print(list[-9:-1])\n",
        "print(list[-9::])\n",
        "print(list[::-1])\n",
        "print(list[::])\n",
        "print(list[-9::5])"
      ],
      "metadata": {
        "colab": {
          "base_uri": "https://localhost:8080/"
        },
        "id": "ph0Fb2XoXF0S",
        "outputId": "1cfabc75-5795-4574-8747-828ce5bb293e"
      },
      "execution_count": 77,
      "outputs": [
        {
          "output_type": "stream",
          "name": "stdout",
          "text": [
            "1.4\n",
            "20\n",
            "[1, 6.0, 2, 3.5, 10, 20, 56, 5]\n",
            "[1, 6.0, 2, 3.5, 10, 20, 56, 5, 1.4]\n",
            "[1.4, 5, 56, 20, 10, 3.5, 2, 6.0, 1]\n",
            "[1, 6.0, 2, 3.5, 10, 20, 56, 5, 1.4]\n",
            "[1, 20]\n"
          ]
        }
      ]
    },
    {
      "cell_type": "markdown",
      "source": [
        "15.Predict the output for the given code snippet and justify the result."
      ],
      "metadata": {
        "id": "pefUL09eX05Z"
      }
    },
    {
      "cell_type": "code",
      "source": [
        "print('A series of characters designated as one object known as a string'[::-1][4::3])\n",
        "#[::-1] reverse the whole string and [4::3] reads the string from index 4 and indexjump to the value 3\n",
        "print(\"-------------------------\")\n",
        "print('Welcome to python training program'[3:10][::-1])\n",
        "#[3:10] it starts from 3index and stops at 10index  [::-1]the it will reverse the string"
      ],
      "metadata": {
        "colab": {
          "base_uri": "https://localhost:8080/"
        },
        "id": "pJKmvJ9CX3I3",
        "outputId": "cb94c017-0b65-4023-fb6f-80a91f8065e7"
      },
      "execution_count": 78,
      "outputs": [
        {
          "output_type": "stream",
          "name": "stdout",
          "text": [
            "taawkcbe  tgestrcoeeA\n",
            "-------------------------\n",
            "ot emoc\n"
          ]
        }
      ]
    },
    {
      "cell_type": "markdown",
      "source": [
        "16.Write a python code to get desired output\n",
        "Input string:p_phrase=\"was it a car or a cat I saw\"\n",
        "Output string: WAS I TAC A RO RAC A TI SAW"
      ],
      "metadata": {
        "id": "dtG2K77jX82e"
      }
    },
    {
      "cell_type": "code",
      "source": [
        "p_phrase=\"was it a car or a cat I saw\"\n",
        "str=p_phrase.upper()\n",
        "print(str[::-1])"
      ],
      "metadata": {
        "colab": {
          "base_uri": "https://localhost:8080/"
        },
        "id": "KZIYIjtDYMKz",
        "outputId": "c747c477-1247-4032-8983-4388f4c1b05c"
      },
      "execution_count": 79,
      "outputs": [
        {
          "output_type": "stream",
          "name": "stdout",
          "text": [
            "WAS I TAC A RO RAC A TI SAW\n"
          ]
        }
      ]
    },
    {
      "cell_type": "markdown",
      "source": [
        "17.You are required to generate a word similar to ZOO, X and Y that denote \n",
        "the number of Zs and Os respectively. The generated word similar to ZOO where Y= 2 * X. \n",
        "Input X= 2 Output ZZOOOO \n",
        "Input X= 5 Output ZZZZZOOOOOOOOOO"
      ],
      "metadata": {
        "id": "Pyvnz06gYSIu"
      }
    },
    {
      "cell_type": "code",
      "source": [
        "x=int(input(\"Enter a value\"))\n",
        "y=2*x\n",
        "print('x=',x)\n",
        "print('y=',y)\n",
        "print('Z'*x,'O'*y,sep='')"
      ],
      "metadata": {
        "colab": {
          "base_uri": "https://localhost:8080/"
        },
        "outputId": "7e81c28a-dad5-4c9a-aeee-e40221778e02",
        "id": "RUVj4itsLRTB"
      },
      "execution_count": 81,
      "outputs": [
        {
          "output_type": "stream",
          "name": "stdout",
          "text": [
            "Enter a value5\n",
            "x= 5\n",
            "y= 10\n",
            "ZZZZZOOOOOOOOOO\n"
          ]
        }
      ]
    }
  ]
}